{
 "cells": [
  {
   "cell_type": "code",
   "execution_count": 1,
   "id": "bf6644e7",
   "metadata": {},
   "outputs": [],
   "source": [
    "# import required modules\n",
    "\n",
    "import pandas as pd\n",
    "import numpy as np\n",
    "import matplotlib.pyplot as plt\n",
    "import seaborn as sns\n",
    "\n",
    "from sklearn.linear_model import PoissonRegressor\n",
    "from matplotlib import pyplot as plt\n",
    "import seaborn as sns\n",
    "\n",
    "from sklearn.model_selection import train_test_split\n",
    "\n",
    "import statsmodels.api as sm\n",
    "\n",
    "popsize = pd.read_csv(\"PopEstimates.csv\")\n",
    "\n",
    "def find_popsize(HB,Q,popsize):\n",
    "    year=Q[0:4]\n",
    "    x=np.where(popsize['Health Board Code']==HB)\n",
    "    popsize2=np.asarray(popsize[year])\n",
    "    return popsize2[x]\n",
    "\n",
    "# example\n"
   ]
  },
  {
   "cell_type": "code",
   "execution_count": 28,
   "id": "c7f08e8a",
   "metadata": {},
   "outputs": [],
   "source": [
    "## import data frames\n",
    "\n",
    "fullData = pd.read_csv(\"31DayDataModified.csv\")\n",
    "#myData = fullData[['Quarter', 'HB', 'CancerType','NumberOfEligibleReferrals31DayStandard','NumberOfEligibleReferralsTreatedWithin31Days']]\n",
    "\n",
    "fullData2 = pd.read_csv(\"62DayDataModified.csv\")\n",
    "#myData2 = fullData2[['Quarter', 'HB', 'CancerType','NumberOfEligibleReferrals62DayStandard','NumberOfEligibleReferralsTreatedWithin62Days']]\n",
    "\n",
    "#weekdata = pd.read_csv(\"cancerdata.csv\")\n",
    "popsize = pd.read_csv(\"PopEstimates.csv\")\n",
    "def find_popsize(HB,Q,popsize):\n",
    "    year=Q[0:4]\n",
    "    x=np.where(popsize['Health Board Code']==HB)\n",
    "    popsize2=np.asarray(popsize[year])\n",
    "    return popsize2[x]"
   ]
  },
  {
   "cell_type": "code",
   "execution_count": null,
   "id": "65459133",
   "metadata": {},
   "outputs": [],
   "source": [
    "# check\n",
    "HB='S08000015'\n",
    "Q='2012Q2'\n",
    "\n",
    "find_popsize(HB,Q,popsize)"
   ]
  },
  {
   "cell_type": "code",
   "execution_count": 34,
   "id": "531e83b3",
   "metadata": {},
   "outputs": [
    {
     "data": {
      "image/png": "[encoded data removed]",
      "text/plain": [
       "<Figure size 432x288 with 1 Axes>"
      ]
     },
     "metadata": {
      "needs_background": "light"
     },
     "output_type": "display_data"
    }
   ],
   "source": [
    "# plot\n",
    "pops=[]\n",
    "HB='S08000015'\n",
    "for i in fullData.Quarter.unique():\n",
    "    pops.append(find_popsize(HB,i,popsize))\n",
    "plt.plot(pops,label=HB)\n",
    "plt.legend()\n",
    "plt.show()\n",
    "\n"
   ]
  },
  {
   "cell_type": "code",
   "execution_count": null,
   "id": "7f45db6d",
   "metadata": {},
   "outputs": [],
   "source": []
  }
 ],
 "metadata": {
  "kernelspec": {
   "display_name": "Python 3",
   "language": "python",
   "name": "python3"
  },
  "language_info": {
   "codemirror_mode": {
    "name": "ipython",
    "version": 3
   },
   "file_extension": ".py",
   "mimetype": "text/x-python",
   "name": "python",
   "nbconvert_exporter": "python",
   "pygments_lexer": "ipython3",
   "version": "3.8.8"
  }
 },
 "nbformat": 4,
 "nbformat_minor": 5
}
